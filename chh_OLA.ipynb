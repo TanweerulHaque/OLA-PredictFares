{
  "nbformat": 4,
  "nbformat_minor": 0,
  "metadata": {
    "colab": {
      "name": "chh OLA.ipynb",
      "provenance": []
    },
    "kernelspec": {
      "name": "python3",
      "display_name": "Python 3"
    },
    "accelerator": "GPU"
  },
  "cells": [
    {
      "cell_type": "code",
      "metadata": {
        "id": "tQirtJ7LAfI9"
      },
      "source": [
        "import numpy as np\n",
        "import pandas as pd\n",
        "import seaborn as sns\n",
        "import matplotlib.pyplot as plt\n",
        "import datetime as dt\n",
        "from sklearn import metrics\n",
        "from sklearn.model_selection import train_test_split\n",
        "import warnings; warnings.simplefilter('ignore')"
      ],
      "execution_count": null,
      "outputs": []
    },
    {
      "cell_type": "code",
      "metadata": {
        "id": "gP-3E5CWGnrj",
        "outputId": "e4f45f34-9d3d-4459-a59b-9e46ebebb754",
        "colab": {
          "base_uri": "https://localhost:8080/",
          "height": 34
        }
      },
      "source": [
        "from google.colab import drive\n",
        "\n",
        "drive.mount(\"/content/drive\")"
      ],
      "execution_count": null,
      "outputs": [
        {
          "output_type": "stream",
          "text": [
            "Mounted at /content/drive\n"
          ],
          "name": "stdout"
        }
      ]
    },
    {
      "cell_type": "code",
      "metadata": {
        "id": "TMGUM6qDHWlA"
      },
      "source": [
        "data=pd.read_csv(\"/content/drive/My Drive/Tanweer Internships & Jobs/Hackathons & Projects/ML projects/OLA Dataset chh/train.csv\")\n",
        "test=pd.read_csv(\"/content/drive/My Drive/Tanweer Internships & Jobs/Hackathons & Projects/ML projects/OLA Dataset chh/test.csv\")"
      ],
      "execution_count": null,
      "outputs": []
    },
    {
      "cell_type": "code",
      "metadata": {
        "id": "aZqxV5A0aPSb",
        "outputId": "b13c940e-c153-4d10-e7a8-c7e9df48e49f",
        "colab": {
          "base_uri": "https://localhost:8080/",
          "height": 319
        }
      },
      "source": [
        "data.isnull().sum()"
      ],
      "execution_count": null,
      "outputs": [
        {
          "output_type": "execute_result",
          "data": {
            "text/plain": [
              "ID                        0\n",
              "vendor+AF8-id             0\n",
              "pickup+AF8-loc            1\n",
              "drop+AF8-loc              1\n",
              "driver+AF8-tip            2\n",
              "mta+AF8-tax               1\n",
              "distance                  1\n",
              "pickup+AF8-time           1\n",
              "drop+AF8-time             1\n",
              "num+AF8-passengers        1\n",
              "toll+AF8-amount           2\n",
              "payment+AF8-method        1\n",
              "rate+AF8-code             1\n",
              "stored+AF8-flag           1\n",
              "extra+AF8-charges         1\n",
              "improvement+AF8-charge    2\n",
              "total+AF8-amount          2\n",
              "dtype: int64"
            ]
          },
          "metadata": {
            "tags": []
          },
          "execution_count": 5
        }
      ]
    },
    {
      "cell_type": "code",
      "metadata": {
        "id": "Wb1MnC9wKvBe",
        "outputId": "e338a69e-0e6b-406b-9aff-c5b50c9396da",
        "colab": {
          "base_uri": "https://localhost:8080/",
          "height": 118
        }
      },
      "source": [
        "data.columns"
      ],
      "execution_count": null,
      "outputs": [
        {
          "output_type": "execute_result",
          "data": {
            "text/plain": [
              "Index(['ID', 'vendor+AF8-id', 'pickup+AF8-loc', 'drop+AF8-loc',\n",
              "       'driver+AF8-tip', 'mta+AF8-tax', 'distance', 'pickup+AF8-time',\n",
              "       'drop+AF8-time', 'num+AF8-passengers', 'toll+AF8-amount',\n",
              "       'payment+AF8-method', 'rate+AF8-code', 'stored+AF8-flag',\n",
              "       'extra+AF8-charges', 'improvement+AF8-charge', 'total+AF8-amount'],\n",
              "      dtype='object')"
            ]
          },
          "metadata": {
            "tags": []
          },
          "execution_count": 6
        }
      ]
    },
    {
      "cell_type": "code",
      "metadata": {
        "id": "ZCXOpeSMK5xP"
      },
      "source": [
        "data.rename(columns = {'vendor+AF8-id': \"vendor_id\",\n",
        "                        'pickup+AF8-loc': \"pickup_loc\",\n",
        "                        'drop+AF8-loc' : \"drop_loc\",\n",
        "                        'driver+AF8-tip': \"driver_tip\", \n",
        "                        'mta+AF8-tax' : \"mta_tax\",\n",
        "                        'pickup+AF8-time' : \"pickup_time\",\n",
        "                        'drop+AF8-time' : \"drop_time\", \n",
        "                        'num+AF8-passengers' : \"num_passengers\",\n",
        "                        'toll+AF8-amount' : \"toll_amount\",\n",
        "                        'payment+AF8-method' : \"payment_method\",\n",
        "                        'rate+AF8-code' : \"rate_code\",\n",
        "                        'stored+AF8-flag' : \"stored_flag\",\n",
        "                        'extra+AF8-charges' : \"extra_charges\",\n",
        "                        'improvement+AF8-charge' : \"improvement_charge\",\n",
        "                        'total+AF8-amount': \"total_amount\"\n",
        "                        }, inplace = True)"
      ],
      "execution_count": null,
      "outputs": []
    },
    {
      "cell_type": "code",
      "metadata": {
        "id": "xvdN09EtNd3z",
        "outputId": "25425b1d-b3f8-447f-b40f-827244752362",
        "colab": {
          "base_uri": "https://localhost:8080/",
          "height": 34
        }
      },
      "source": [
        "data.shape"
      ],
      "execution_count": null,
      "outputs": [
        {
          "output_type": "execute_result",
          "data": {
            "text/plain": [
              "(1048575, 17)"
            ]
          },
          "metadata": {
            "tags": []
          },
          "execution_count": 8
        }
      ]
    },
    {
      "cell_type": "code",
      "metadata": {
        "id": "NrmDOn-SOGqt"
      },
      "source": [
        "data['pickup_time']=pd.to_datetime(data['pickup_time'])"
      ],
      "execution_count": null,
      "outputs": []
    },
    {
      "cell_type": "code",
      "metadata": {
        "id": "LZnDwak7OXMi"
      },
      "source": [
        "data['drop_time']=pd.to_datetime(data['drop_time'])"
      ],
      "execution_count": null,
      "outputs": []
    },
    {
      "cell_type": "code",
      "metadata": {
        "id": "-iTlShAZPepO"
      },
      "source": [
        "data['trip_duration']=data['drop_time']-data['pickup_time']"
      ],
      "execution_count": null,
      "outputs": []
    },
    {
      "cell_type": "code",
      "metadata": {
        "id": "UGe0DM7QTAqX"
      },
      "source": [
        "data['trip_duration'] = data['trip_duration'].astype('timedelta64[s]')"
      ],
      "execution_count": null,
      "outputs": []
    },
    {
      "cell_type": "code",
      "metadata": {
        "id": "uFvG_7v5UxOU"
      },
      "source": [
        "data.drop(['pickup_time', \"drop_time\",'ID', \"vendor_id\", \"drop_loc\", \"pickup_loc\", \"stored_flag\", \"mta_tax\", \"improvement_charge\" ], axis = 1, inplace = True) "
      ],
      "execution_count": null,
      "outputs": []
    },
    {
      "cell_type": "code",
      "metadata": {
        "id": "Rb6tdFOrXjan",
        "outputId": "017f75cb-9027-4a04-80c7-7904d23b0eea",
        "colab": {
          "base_uri": "https://localhost:8080/",
          "height": 34
        }
      },
      "source": [
        "data.shape"
      ],
      "execution_count": null,
      "outputs": [
        {
          "output_type": "execute_result",
          "data": {
            "text/plain": [
              "(1048575, 9)"
            ]
          },
          "metadata": {
            "tags": []
          },
          "execution_count": 14
        }
      ]
    },
    {
      "cell_type": "code",
      "metadata": {
        "id": "wIQiQpnTXlTO",
        "outputId": "897622b2-3bdb-4899-a08a-cd6638af6412",
        "colab": {
          "base_uri": "https://localhost:8080/",
          "height": 286
        }
      },
      "source": [
        "data.info()"
      ],
      "execution_count": null,
      "outputs": [
        {
          "output_type": "stream",
          "text": [
            "<class 'pandas.core.frame.DataFrame'>\n",
            "RangeIndex: 1048575 entries, 0 to 1048574\n",
            "Data columns (total 9 columns):\n",
            " #   Column          Non-Null Count    Dtype  \n",
            "---  ------          --------------    -----  \n",
            " 0   driver_tip      1048573 non-null  object \n",
            " 1   distance        1048574 non-null  float64\n",
            " 2   num_passengers  1048574 non-null  float64\n",
            " 3   toll_amount     1048573 non-null  object \n",
            " 4   payment_method  1048574 non-null  float64\n",
            " 5   rate_code       1048574 non-null  float64\n",
            " 6   extra_charges   1048574 non-null  object \n",
            " 7   total_amount    1048573 non-null  object \n",
            " 8   trip_duration   1048574 non-null  float64\n",
            "dtypes: float64(5), object(4)\n",
            "memory usage: 72.0+ MB\n"
          ],
          "name": "stdout"
        }
      ]
    },
    {
      "cell_type": "code",
      "metadata": {
        "id": "RiBrlmaiYr6r",
        "outputId": "a9e013e8-8f67-411d-9be9-63af16049d84",
        "colab": {
          "base_uri": "https://localhost:8080/",
          "height": 286
        }
      },
      "source": [
        "data.info()"
      ],
      "execution_count": null,
      "outputs": [
        {
          "output_type": "stream",
          "text": [
            "<class 'pandas.core.frame.DataFrame'>\n",
            "RangeIndex: 1048575 entries, 0 to 1048574\n",
            "Data columns (total 9 columns):\n",
            " #   Column          Non-Null Count    Dtype  \n",
            "---  ------          --------------    -----  \n",
            " 0   driver_tip      1048573 non-null  object \n",
            " 1   distance        1048574 non-null  float64\n",
            " 2   num_passengers  1048574 non-null  float64\n",
            " 3   toll_amount     1048573 non-null  object \n",
            " 4   payment_method  1048574 non-null  float64\n",
            " 5   rate_code       1048574 non-null  float64\n",
            " 6   extra_charges   1048574 non-null  object \n",
            " 7   total_amount    1048573 non-null  object \n",
            " 8   trip_duration   1048574 non-null  float64\n",
            "dtypes: float64(5), object(4)\n",
            "memory usage: 72.0+ MB\n"
          ],
          "name": "stdout"
        }
      ]
    },
    {
      "cell_type": "code",
      "metadata": {
        "id": "tjnpDyDVwjK8",
        "outputId": "f48b2012-dd2d-4166-a41f-bfdc8ae9722a",
        "colab": {
          "base_uri": "https://localhost:8080/",
          "height": 195
        }
      },
      "source": [
        "data.head()"
      ],
      "execution_count": null,
      "outputs": [
        {
          "output_type": "execute_result",
          "data": {
            "text/html": [
              "<div>\n",
              "<style scoped>\n",
              "    .dataframe tbody tr th:only-of-type {\n",
              "        vertical-align: middle;\n",
              "    }\n",
              "\n",
              "    .dataframe tbody tr th {\n",
              "        vertical-align: top;\n",
              "    }\n",
              "\n",
              "    .dataframe thead th {\n",
              "        text-align: right;\n",
              "    }\n",
              "</style>\n",
              "<table border=\"1\" class=\"dataframe\">\n",
              "  <thead>\n",
              "    <tr style=\"text-align: right;\">\n",
              "      <th></th>\n",
              "      <th>driver_tip</th>\n",
              "      <th>distance</th>\n",
              "      <th>num_passengers</th>\n",
              "      <th>toll_amount</th>\n",
              "      <th>payment_method</th>\n",
              "      <th>rate_code</th>\n",
              "      <th>extra_charges</th>\n",
              "      <th>trip_duration</th>\n",
              "    </tr>\n",
              "  </thead>\n",
              "  <tbody>\n",
              "    <tr>\n",
              "      <th>0</th>\n",
              "      <td>1.83</td>\n",
              "      <td>0.70</td>\n",
              "      <td>1.0</td>\n",
              "      <td>0.0</td>\n",
              "      <td>1.0</td>\n",
              "      <td>1.0</td>\n",
              "      <td>1.0</td>\n",
              "      <td>321.0</td>\n",
              "    </tr>\n",
              "    <tr>\n",
              "      <th>1</th>\n",
              "      <td>3.56</td>\n",
              "      <td>4.64</td>\n",
              "      <td>1.0</td>\n",
              "      <td>0.0</td>\n",
              "      <td>1.0</td>\n",
              "      <td>1.0</td>\n",
              "      <td>1.0</td>\n",
              "      <td>990.0</td>\n",
              "    </tr>\n",
              "    <tr>\n",
              "      <th>2</th>\n",
              "      <td>1.50</td>\n",
              "      <td>1.29</td>\n",
              "      <td>2.0</td>\n",
              "      <td>0.0</td>\n",
              "      <td>1.0</td>\n",
              "      <td>1.0</td>\n",
              "      <td>0.0</td>\n",
              "      <td>377.0</td>\n",
              "    </tr>\n",
              "    <tr>\n",
              "      <th>3</th>\n",
              "      <td>1.50</td>\n",
              "      <td>2.74</td>\n",
              "      <td>1.0</td>\n",
              "      <td>0.0</td>\n",
              "      <td>1.0</td>\n",
              "      <td>1.0</td>\n",
              "      <td>0.0</td>\n",
              "      <td>968.0</td>\n",
              "    </tr>\n",
              "    <tr>\n",
              "      <th>4</th>\n",
              "      <td>0.00</td>\n",
              "      <td>0.45</td>\n",
              "      <td>6.0</td>\n",
              "      <td>0.0</td>\n",
              "      <td>2.0</td>\n",
              "      <td>1.0</td>\n",
              "      <td>0.0</td>\n",
              "      <td>162.0</td>\n",
              "    </tr>\n",
              "  </tbody>\n",
              "</table>\n",
              "</div>"
            ],
            "text/plain": [
              "   driver_tip  distance  ...  extra_charges  trip_duration\n",
              "0        1.83      0.70  ...            1.0          321.0\n",
              "1        3.56      4.64  ...            1.0          990.0\n",
              "2        1.50      1.29  ...            0.0          377.0\n",
              "3        1.50      2.74  ...            0.0          968.0\n",
              "4        0.00      0.45  ...            0.0          162.0\n",
              "\n",
              "[5 rows x 8 columns]"
            ]
          },
          "metadata": {
            "tags": []
          },
          "execution_count": 53
        }
      ]
    },
    {
      "cell_type": "code",
      "metadata": {
        "id": "aEREOXmZwW4L",
        "outputId": "da6269e6-a10f-4a7a-ea9f-5513b90b0267",
        "colab": {
          "base_uri": "https://localhost:8080/",
          "height": 67
        }
      },
      "source": [
        "data.columns"
      ],
      "execution_count": null,
      "outputs": [
        {
          "output_type": "execute_result",
          "data": {
            "text/plain": [
              "Index(['driver_tip', 'distance', 'num_passengers', 'toll_amount',\n",
              "       'payment_method', 'rate_code', 'extra_charges', 'trip_duration'],\n",
              "      dtype='object')"
            ]
          },
          "metadata": {
            "tags": []
          },
          "execution_count": 52
        }
      ]
    },
    {
      "cell_type": "code",
      "metadata": {
        "id": "6_E_Z3OgcFiA",
        "outputId": "cfb5fdff-9628-4072-e651-6464cc6ddfa7",
        "colab": {
          "base_uri": "https://localhost:8080/",
          "height": 185
        }
      },
      "source": [
        "data.isnull().sum()"
      ],
      "execution_count": null,
      "outputs": [
        {
          "output_type": "execute_result",
          "data": {
            "text/plain": [
              "driver_tip        2\n",
              "distance          1\n",
              "num_passengers    1\n",
              "toll_amount       2\n",
              "payment_method    1\n",
              "rate_code         1\n",
              "extra_charges     1\n",
              "total_amount      2\n",
              "trip_duration     1\n",
              "dtype: int64"
            ]
          },
          "metadata": {
            "tags": []
          },
          "execution_count": 17
        }
      ]
    },
    {
      "cell_type": "code",
      "metadata": {
        "id": "mkRRPyIgdEIU",
        "outputId": "29db1c3a-4e01-4129-8f9b-020f66128072",
        "colab": {
          "base_uri": "https://localhost:8080/",
          "height": 34
        }
      },
      "source": [
        "data.isnull().sum().sum()"
      ],
      "execution_count": null,
      "outputs": [
        {
          "output_type": "execute_result",
          "data": {
            "text/plain": [
              "12"
            ]
          },
          "metadata": {
            "tags": []
          },
          "execution_count": 18
        }
      ]
    },
    {
      "cell_type": "code",
      "metadata": {
        "id": "tCznFpIVmBgu",
        "outputId": "44deda95-0a5b-4ca4-c337-3eb52992ee99",
        "colab": {
          "base_uri": "https://localhost:8080/",
          "height": 34
        }
      },
      "source": [
        "cat_cols = [\"driver_tip\", \"toll_amount\", \"extra_charges\", \"total_amount\"]\n",
        "num_cols = [c for c in data.columns if c not in cat_cols]\n",
        "print (num_cols)"
      ],
      "execution_count": null,
      "outputs": [
        {
          "output_type": "stream",
          "text": [
            "['distance', 'num_passengers', 'payment_method', 'rate_code', 'trip_duration']\n"
          ],
          "name": "stdout"
        }
      ]
    },
    {
      "cell_type": "code",
      "metadata": {
        "id": "ZDrRws0Xo4_q"
      },
      "source": [
        "for c in num_cols :\n",
        "  data[c].fillna((data[c].mean()),inplace=True)"
      ],
      "execution_count": null,
      "outputs": []
    },
    {
      "cell_type": "code",
      "metadata": {
        "id": "CZT2ZNLvqHrp",
        "outputId": "f94d1ae6-6f60-462f-ccaa-b6e0717f4f3b",
        "colab": {
          "base_uri": "https://localhost:8080/",
          "height": 185
        }
      },
      "source": [
        "data.isnull().sum()"
      ],
      "execution_count": null,
      "outputs": [
        {
          "output_type": "execute_result",
          "data": {
            "text/plain": [
              "driver_tip        2\n",
              "distance          0\n",
              "num_passengers    0\n",
              "toll_amount       2\n",
              "payment_method    0\n",
              "rate_code         0\n",
              "extra_charges     1\n",
              "total_amount      2\n",
              "trip_duration     0\n",
              "dtype: int64"
            ]
          },
          "metadata": {
            "tags": []
          },
          "execution_count": 21
        }
      ]
    },
    {
      "cell_type": "code",
      "metadata": {
        "id": "K9rm_0pCUAbG",
        "outputId": "852b64da-29d4-4d7f-e49a-5b0cff73f21f",
        "colab": {
          "base_uri": "https://localhost:8080/",
          "height": 286
        }
      },
      "source": [
        "data.info()"
      ],
      "execution_count": null,
      "outputs": [
        {
          "output_type": "stream",
          "text": [
            "<class 'pandas.core.frame.DataFrame'>\n",
            "RangeIndex: 1048575 entries, 0 to 1048574\n",
            "Data columns (total 9 columns):\n",
            " #   Column          Non-Null Count    Dtype  \n",
            "---  ------          --------------    -----  \n",
            " 0   driver_tip      1048573 non-null  object \n",
            " 1   distance        1048575 non-null  float64\n",
            " 2   num_passengers  1048575 non-null  float64\n",
            " 3   toll_amount     1048573 non-null  object \n",
            " 4   payment_method  1048575 non-null  float64\n",
            " 5   rate_code       1048575 non-null  float64\n",
            " 6   extra_charges   1048574 non-null  object \n",
            " 7   total_amount    1048573 non-null  object \n",
            " 8   trip_duration   1048575 non-null  float64\n",
            "dtypes: float64(5), object(4)\n",
            "memory usage: 72.0+ MB\n"
          ],
          "name": "stdout"
        }
      ]
    },
    {
      "cell_type": "code",
      "metadata": {
        "id": "FJ9KXYTjUGFM"
      },
      "source": [
        "for c in cat_cols :\n",
        "  data[c] = pd.to_numeric(data[c], errors='coerce')"
      ],
      "execution_count": null,
      "outputs": []
    },
    {
      "cell_type": "code",
      "metadata": {
        "id": "hiLA46eBU0Hr",
        "outputId": "c122bdb0-cc7d-41b4-8553-2c3bd5acb3fe",
        "colab": {
          "base_uri": "https://localhost:8080/",
          "height": 286
        }
      },
      "source": [
        "data.info()"
      ],
      "execution_count": null,
      "outputs": [
        {
          "output_type": "stream",
          "text": [
            "<class 'pandas.core.frame.DataFrame'>\n",
            "RangeIndex: 1048575 entries, 0 to 1048574\n",
            "Data columns (total 9 columns):\n",
            " #   Column          Non-Null Count    Dtype  \n",
            "---  ------          --------------    -----  \n",
            " 0   driver_tip      1048561 non-null  float64\n",
            " 1   distance        1048575 non-null  float64\n",
            " 2   num_passengers  1048575 non-null  float64\n",
            " 3   toll_amount     1048571 non-null  float64\n",
            " 4   payment_method  1048575 non-null  float64\n",
            " 5   rate_code       1048575 non-null  float64\n",
            " 6   extra_charges   1048350 non-null  float64\n",
            " 7   total_amount    1048052 non-null  float64\n",
            " 8   trip_duration   1048575 non-null  float64\n",
            "dtypes: float64(9)\n",
            "memory usage: 72.0 MB\n"
          ],
          "name": "stdout"
        }
      ]
    },
    {
      "cell_type": "code",
      "metadata": {
        "id": "40zBqCt-U3Jq",
        "outputId": "dc40b340-c56f-48c4-8ae8-37512650f397",
        "colab": {
          "base_uri": "https://localhost:8080/",
          "height": 34
        }
      },
      "source": [
        "data.isnull().sum().sum()"
      ],
      "execution_count": null,
      "outputs": [
        {
          "output_type": "execute_result",
          "data": {
            "text/plain": [
              "766"
            ]
          },
          "metadata": {
            "tags": []
          },
          "execution_count": 25
        }
      ]
    },
    {
      "cell_type": "code",
      "metadata": {
        "id": "aayEreVsVA6b"
      },
      "source": [
        "data.dropna(inplace= True)"
      ],
      "execution_count": null,
      "outputs": []
    },
    {
      "cell_type": "code",
      "metadata": {
        "id": "cnvpipECVJOo",
        "outputId": "93d87da6-d3fe-4a36-9afe-d0feefae9748",
        "colab": {
          "base_uri": "https://localhost:8080/",
          "height": 34
        }
      },
      "source": [
        "data.shape"
      ],
      "execution_count": null,
      "outputs": [
        {
          "output_type": "execute_result",
          "data": {
            "text/plain": [
              "(1048052, 9)"
            ]
          },
          "metadata": {
            "tags": []
          },
          "execution_count": 27
        }
      ]
    },
    {
      "cell_type": "code",
      "metadata": {
        "id": "oSKWZqItIw5Q"
      },
      "source": [
        "y=data['total_amount']"
      ],
      "execution_count": null,
      "outputs": []
    },
    {
      "cell_type": "code",
      "metadata": {
        "id": "_Ev-p--IJFgf"
      },
      "source": [
        "data.drop([\"total_amount\"], axis=1, inplace = True)"
      ],
      "execution_count": null,
      "outputs": []
    },
    {
      "cell_type": "code",
      "metadata": {
        "id": "lqJVboZqVR_q",
        "outputId": "308c9e60-4a94-422d-852f-6a374d64191c",
        "colab": {
          "base_uri": "https://localhost:8080/",
          "height": 34
        }
      },
      "source": [
        "data.shape"
      ],
      "execution_count": null,
      "outputs": [
        {
          "output_type": "execute_result",
          "data": {
            "text/plain": [
              "(1048052, 8)"
            ]
          },
          "metadata": {
            "tags": []
          },
          "execution_count": 30
        }
      ]
    },
    {
      "cell_type": "code",
      "metadata": {
        "id": "WkYfQGjtVUD-"
      },
      "source": [
        "from xgboost import XGBRegressor\n",
        "train_x,test_x,train_y,test_y=train_test_split(data,y,test_size=.075,random_state=42)"
      ],
      "execution_count": null,
      "outputs": []
    },
    {
      "cell_type": "code",
      "metadata": {
        "id": "kHkWo-NqVqIa",
        "outputId": "fa18884a-933a-44d1-c985-3f4088399607",
        "colab": {
          "base_uri": "https://localhost:8080/",
          "height": 151
        }
      },
      "source": [
        "model = XGBRegressor(max_depth=8, n_estimators = 750, learning_rate= 0.025,random_state=42)\n",
        "model.fit(train_x,train_y)"
      ],
      "execution_count": null,
      "outputs": [
        {
          "output_type": "stream",
          "text": [
            "[09:06:01] WARNING: /workspace/src/objective/regression_obj.cu:152: reg:linear is now deprecated in favor of reg:squarederror.\n"
          ],
          "name": "stdout"
        },
        {
          "output_type": "execute_result",
          "data": {
            "text/plain": [
              "XGBRegressor(base_score=0.5, booster='gbtree', colsample_bylevel=1,\n",
              "             colsample_bynode=1, colsample_bytree=1, gamma=0,\n",
              "             importance_type='gain', learning_rate=0.025, max_delta_step=0,\n",
              "             max_depth=8, min_child_weight=1, missing=None, n_estimators=750,\n",
              "             n_jobs=1, nthread=None, objective='reg:linear', random_state=42,\n",
              "             reg_alpha=0, reg_lambda=1, scale_pos_weight=1, seed=None,\n",
              "             silent=None, subsample=1, verbosity=1)"
            ]
          },
          "metadata": {
            "tags": []
          },
          "execution_count": 78
        }
      ]
    },
    {
      "cell_type": "code",
      "metadata": {
        "id": "-bSmVAFWV0ZV",
        "outputId": "ac8f0df8-1300-459e-c159-f3c97789cf02",
        "colab": {
          "base_uri": "https://localhost:8080/",
          "height": 34
        }
      },
      "source": [
        "model.score(train_x,train_y)"
      ],
      "execution_count": null,
      "outputs": [
        {
          "output_type": "execute_result",
          "data": {
            "text/plain": [
              "0.9796472317168103"
            ]
          },
          "metadata": {
            "tags": []
          },
          "execution_count": 33
        }
      ]
    },
    {
      "cell_type": "code",
      "metadata": {
        "id": "4mQoL7_GWhpC",
        "outputId": "cd40f123-294f-4147-8709-92dfe7558c52",
        "colab": {
          "base_uri": "https://localhost:8080/",
          "height": 34
        }
      },
      "source": [
        "model.score(test_x,test_y)"
      ],
      "execution_count": null,
      "outputs": [
        {
          "output_type": "execute_result",
          "data": {
            "text/plain": [
              "0.972736650078062"
            ]
          },
          "metadata": {
            "tags": []
          },
          "execution_count": 34
        }
      ]
    },
    {
      "cell_type": "code",
      "metadata": {
        "id": "_lQvSOdL_DnJ"
      },
      "source": [
        "test=pd.read_csv(\"/content/drive/My Drive/Tanweer Internships & Jobs/Hackathons & Projects/ML projects/OLA Dataset chh/test.csv\")"
      ],
      "execution_count": null,
      "outputs": []
    },
    {
      "cell_type": "code",
      "metadata": {
        "id": "Qu2jlirX_EmJ"
      },
      "source": [
        "test['pickup_time']=pd.to_datetime(test['pickup_time'])\n",
        "test['drop_time']=pd.to_datetime(test['drop_time'])\n",
        "test['trip_duration']=test['drop_time']-test['pickup_time']\n",
        "test['trip_duration'] = test['trip_duration'].astype('timedelta64[s]')"
      ],
      "execution_count": null,
      "outputs": []
    },
    {
      "cell_type": "code",
      "metadata": {
        "id": "iVZl8Dj4_pIM",
        "outputId": "20c0a9ed-d264-47eb-a70c-1422bfcda74b",
        "colab": {
          "base_uri": "https://localhost:8080/",
          "height": 34
        }
      },
      "source": [
        "test.shape"
      ],
      "execution_count": null,
      "outputs": [
        {
          "output_type": "execute_result",
          "data": {
            "text/plain": [
              "(154235, 17)"
            ]
          },
          "metadata": {
            "tags": []
          },
          "execution_count": 37
        }
      ]
    },
    {
      "cell_type": "code",
      "metadata": {
        "id": "kr_qlhDNAAJW",
        "outputId": "5dffce6f-16e6-4179-aef7-7a4627a88eb2",
        "colab": {
          "base_uri": "https://localhost:8080/",
          "height": 420
        }
      },
      "source": [
        "test.info()"
      ],
      "execution_count": null,
      "outputs": [
        {
          "output_type": "stream",
          "text": [
            "<class 'pandas.core.frame.DataFrame'>\n",
            "RangeIndex: 154235 entries, 0 to 154234\n",
            "Data columns (total 17 columns):\n",
            " #   Column              Non-Null Count   Dtype         \n",
            "---  ------              --------------   -----         \n",
            " 0   ID                  154235 non-null  int64         \n",
            " 1   vendor_id           154235 non-null  int64         \n",
            " 2   pickup_loc          154235 non-null  float64       \n",
            " 3   drop_loc            154235 non-null  float64       \n",
            " 4   driver_tip          154235 non-null  float64       \n",
            " 5   mta_tax             154235 non-null  float64       \n",
            " 6   distance            154235 non-null  float64       \n",
            " 7   pickup_time         154235 non-null  datetime64[ns]\n",
            " 8   drop_time           154235 non-null  datetime64[ns]\n",
            " 9   num_passengers      154235 non-null  float64       \n",
            " 10  toll_amount         154235 non-null  float64       \n",
            " 11  payment_method      154235 non-null  float64       \n",
            " 12  rate_code           154235 non-null  float64       \n",
            " 13  stored_flag         154235 non-null  object        \n",
            " 14  extra_charges       154235 non-null  float64       \n",
            " 15  improvement_charge  154235 non-null  float64       \n",
            " 16  trip_duration       154235 non-null  float64       \n",
            "dtypes: datetime64[ns](2), float64(12), int64(2), object(1)\n",
            "memory usage: 20.0+ MB\n"
          ],
          "name": "stdout"
        }
      ]
    },
    {
      "cell_type": "code",
      "metadata": {
        "id": "5u-kCAC6AElT"
      },
      "source": [
        "test.drop(['pickup_time', \"drop_time\",'ID', \"vendor_id\", \"drop_loc\", \"pickup_loc\", \"stored_flag\", \"mta_tax\", \"improvement_charge\" ], axis = 1, inplace = True)"
      ],
      "execution_count": null,
      "outputs": []
    },
    {
      "cell_type": "code",
      "metadata": {
        "id": "TpCysIldAL-z",
        "outputId": "1687c6a9-d649-405b-f04f-46532f0dc2d4",
        "colab": {
          "base_uri": "https://localhost:8080/",
          "height": 34
        }
      },
      "source": [
        "test.shape"
      ],
      "execution_count": null,
      "outputs": [
        {
          "output_type": "execute_result",
          "data": {
            "text/plain": [
              "(154235, 8)"
            ]
          },
          "metadata": {
            "tags": []
          },
          "execution_count": 40
        }
      ]
    },
    {
      "cell_type": "code",
      "metadata": {
        "id": "nhdpEjvwANxI",
        "outputId": "45a76030-04d7-448d-c8c7-53c3830aa732",
        "colab": {
          "base_uri": "https://localhost:8080/",
          "height": 269
        }
      },
      "source": [
        "test.info()"
      ],
      "execution_count": null,
      "outputs": [
        {
          "output_type": "stream",
          "text": [
            "<class 'pandas.core.frame.DataFrame'>\n",
            "RangeIndex: 154235 entries, 0 to 154234\n",
            "Data columns (total 8 columns):\n",
            " #   Column          Non-Null Count   Dtype  \n",
            "---  ------          --------------   -----  \n",
            " 0   driver_tip      154235 non-null  float64\n",
            " 1   distance        154235 non-null  float64\n",
            " 2   num_passengers  154235 non-null  float64\n",
            " 3   toll_amount     154235 non-null  float64\n",
            " 4   payment_method  154235 non-null  float64\n",
            " 5   rate_code       154235 non-null  float64\n",
            " 6   extra_charges   154235 non-null  float64\n",
            " 7   trip_duration   154235 non-null  float64\n",
            "dtypes: float64(8)\n",
            "memory usage: 9.4 MB\n"
          ],
          "name": "stdout"
        }
      ]
    },
    {
      "cell_type": "code",
      "metadata": {
        "id": "KOOvxd1IAOws"
      },
      "source": [
        "predict = model.predict(test)"
      ],
      "execution_count": null,
      "outputs": []
    },
    {
      "cell_type": "code",
      "metadata": {
        "id": "P6KC_EjJAYyY"
      },
      "source": [
        "ID = np.arange(154235)"
      ],
      "execution_count": null,
      "outputs": []
    },
    {
      "cell_type": "code",
      "metadata": {
        "id": "ZT7zJ_w-Bd_P",
        "outputId": "29d3d1d4-3ab1-4d2b-dba6-ea231b0fe96a",
        "colab": {
          "base_uri": "https://localhost:8080/",
          "height": 34
        }
      },
      "source": [
        "len(ID)"
      ],
      "execution_count": null,
      "outputs": [
        {
          "output_type": "execute_result",
          "data": {
            "text/plain": [
              "154235"
            ]
          },
          "metadata": {
            "tags": []
          },
          "execution_count": 44
        }
      ]
    },
    {
      "cell_type": "code",
      "metadata": {
        "id": "d7QI0ugpBgC7"
      },
      "source": [
        "df = pd.DataFrame({\"ID\" : ID,\n",
        "                   \"total_amount\" : predict}, columns = [\"ID\", \"total_amount\"]).set_index(\"ID\")"
      ],
      "execution_count": null,
      "outputs": []
    },
    {
      "cell_type": "code",
      "metadata": {
        "id": "dB4dhRZnHE23",
        "outputId": "659bc9af-83c6-47a3-c533-b9bc693af5c6",
        "colab": {
          "base_uri": "https://localhost:8080/",
          "height": 237
        }
      },
      "source": [
        "df.head()"
      ],
      "execution_count": 79,
      "outputs": [
        {
          "output_type": "execute_result",
          "data": {
            "text/html": [
              "<div>\n",
              "<style scoped>\n",
              "    .dataframe tbody tr th:only-of-type {\n",
              "        vertical-align: middle;\n",
              "    }\n",
              "\n",
              "    .dataframe tbody tr th {\n",
              "        vertical-align: top;\n",
              "    }\n",
              "\n",
              "    .dataframe thead th {\n",
              "        text-align: right;\n",
              "    }\n",
              "</style>\n",
              "<table border=\"1\" class=\"dataframe\">\n",
              "  <thead>\n",
              "    <tr style=\"text-align: right;\">\n",
              "      <th></th>\n",
              "      <th>total_amount</th>\n",
              "    </tr>\n",
              "    <tr>\n",
              "      <th>ID</th>\n",
              "      <th></th>\n",
              "    </tr>\n",
              "  </thead>\n",
              "  <tbody>\n",
              "    <tr>\n",
              "      <th>0</th>\n",
              "      <td>7.286537</td>\n",
              "    </tr>\n",
              "    <tr>\n",
              "      <th>1</th>\n",
              "      <td>15.135538</td>\n",
              "    </tr>\n",
              "    <tr>\n",
              "      <th>2</th>\n",
              "      <td>17.499432</td>\n",
              "    </tr>\n",
              "    <tr>\n",
              "      <th>3</th>\n",
              "      <td>8.495472</td>\n",
              "    </tr>\n",
              "    <tr>\n",
              "      <th>4</th>\n",
              "      <td>7.960011</td>\n",
              "    </tr>\n",
              "  </tbody>\n",
              "</table>\n",
              "</div>"
            ],
            "text/plain": [
              "    total_amount\n",
              "ID              \n",
              "0       7.286537\n",
              "1      15.135538\n",
              "2      17.499432\n",
              "3       8.495472\n",
              "4       7.960011"
            ]
          },
          "metadata": {
            "tags": []
          },
          "execution_count": 79
        }
      ]
    },
    {
      "cell_type": "code",
      "metadata": {
        "id": "w9un9scKE4AW"
      },
      "source": [
        "def download_preds(df, file_name = 'test_predicted.csv'):\n",
        "  df.to_csv(file_name)\n",
        "  from google.colab import files\n",
        "  files.download(file_name)"
      ],
      "execution_count": null,
      "outputs": []
    },
    {
      "cell_type": "code",
      "metadata": {
        "id": "9J0dmwLvFbHU",
        "outputId": "9d9ab31f-be5d-454c-bf34-6c56bff4ad42",
        "colab": {
          "base_uri": "https://localhost:8080/",
          "height": 34
        }
      },
      "source": [
        "download_preds(df, file_name = 'test_predicted.csv')"
      ],
      "execution_count": null,
      "outputs": [
        {
          "output_type": "display_data",
          "data": {
            "application/javascript": [
              "\n",
              "    async function download(id, filename, size) {\n",
              "      if (!google.colab.kernel.accessAllowed) {\n",
              "        return;\n",
              "      }\n",
              "      const div = document.createElement('div');\n",
              "      const label = document.createElement('label');\n",
              "      label.textContent = `Downloading \"${filename}\": `;\n",
              "      div.appendChild(label);\n",
              "      const progress = document.createElement('progress');\n",
              "      progress.max = size;\n",
              "      div.appendChild(progress);\n",
              "      document.body.appendChild(div);\n",
              "\n",
              "      const buffers = [];\n",
              "      let downloaded = 0;\n",
              "\n",
              "      const channel = await google.colab.kernel.comms.open(id);\n",
              "      // Send a message to notify the kernel that we're ready.\n",
              "      channel.send({})\n",
              "\n",
              "      for await (const message of channel.messages) {\n",
              "        // Send a message to notify the kernel that we're ready.\n",
              "        channel.send({})\n",
              "        if (message.buffers) {\n",
              "          for (const buffer of message.buffers) {\n",
              "            buffers.push(buffer);\n",
              "            downloaded += buffer.byteLength;\n",
              "            progress.value = downloaded;\n",
              "          }\n",
              "        }\n",
              "      }\n",
              "      const blob = new Blob(buffers, {type: 'application/binary'});\n",
              "      const a = document.createElement('a');\n",
              "      a.href = window.URL.createObjectURL(blob);\n",
              "      a.download = filename;\n",
              "      div.appendChild(a);\n",
              "      a.click();\n",
              "      div.remove();\n",
              "    }\n",
              "  "
            ],
            "text/plain": [
              "<IPython.core.display.Javascript object>"
            ]
          },
          "metadata": {
            "tags": []
          }
        },
        {
          "output_type": "display_data",
          "data": {
            "application/javascript": [
              "download(\"download_28efd278-cf62-47a9-9449-ccb0caca7a29\", \"test_predicted.csv\", 2449840)"
            ],
            "text/plain": [
              "<IPython.core.display.Javascript object>"
            ]
          },
          "metadata": {
            "tags": []
          }
        }
      ]
    }
  ]
}